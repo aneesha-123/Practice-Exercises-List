{
 "cells": [
  {
   "cell_type": "code",
   "execution_count": 2,
   "id": "0c0b0d54-343e-4865-a4f1-2ec2b8ee3e27",
   "metadata": {},
   "outputs": [
    {
     "name": "stdout",
     "output_type": "stream",
     "text": [
      "[0, 2, 4, 6, 8]\n"
     ]
    }
   ],
   "source": [
    "#Create a list of 10 numbers and print all even numbers.\n",
    "\n",
    "even = [x for x in range(10) if x% 2 ==0]\n",
    "print (even)"
   ]
  },
  {
   "cell_type": "code",
   "execution_count": 8,
   "id": "6ea0e210-983e-468d-bb5e-eea995811ae4",
   "metadata": {},
   "outputs": [
    {
     "name": "stdout",
     "output_type": "stream",
     "text": [
      "Fruit counts: {'apple': 3, 'banana': 2, 'orange': 1, 'grape': 1}\n"
     ]
    }
   ],
   "source": [
    "# Write a program to count occurrences of each fruit in a list.\n",
    "fruits = ['apple', 'banana', 'apple', 'orange', 'banana', 'apple', 'grape']\n",
    "\n",
    "fruitsCount = {fruit: fruits.count(fruit) for fruit in fruits}\n",
    "print(\"Fruit counts:\",fruitsCount)\n",
    "\n"
   ]
  },
  {
   "cell_type": "code",
   "execution_count": 9,
   "id": "b88295f8-4a08-4fd6-8fbb-349c0dff7f97",
   "metadata": {},
   "outputs": [
    {
     "name": "stdout",
     "output_type": "stream",
     "text": [
      "Sorted by length:  ['fig', 'kiwi', 'apple', 'grape', 'banana', 'orange']\n"
     ]
    }
   ],
   "source": [
    "# Sort a list of strings by length.\n",
    "fruits = ['apple', 'banana', 'kiwi', 'grape', 'orange', 'fig']\n",
    "sorted_fruits = sorted(fruits,key=len)\n",
    "print(\"Sorted by length: \",sorted_fruits)"
   ]
  },
  {
   "cell_type": "code",
   "execution_count": 10,
   "id": "c8529875-e375-4636-9ac9-416f4cfe7726",
   "metadata": {},
   "outputs": [
    {
     "name": "stdout",
     "output_type": "stream",
     "text": [
      "['date', 'cherry', 'banana', 'apple']\n"
     ]
    }
   ],
   "source": [
    "#  Reverse a list without using reverse()\n",
    "#  [::-1] means — start from the end and step backward by 1.\n",
    "fruits = ['apple', 'banana', 'cherry', 'date']\n",
    "reversed_fruits = fruits[::-1]\n",
    "print(reversed_fruits)"
   ]
  },
  {
   "cell_type": "code",
   "execution_count": null,
   "id": "521c941f-e752-4997-89a6-55ca9899ce7f",
   "metadata": {},
   "outputs": [],
   "source": [
    "#Flatten a nested list [[1,2],[3,4],[5,6]] into [1,2,3,4,5,6].\n",
    "nested_list = [[1, 2], [3, 4], [5, 6]]\n",
    "\n",
    "flat_list = []\n",
    "for sublist in nested_list:\n",
    "    for num in sublist:\n",
    "        flat_list.append(num)\n",
    "\n",
    "print(flat_list)"
   ]
  },
  {
   "cell_type": "code",
   "execution_count": 6,
   "id": "64313321-1365-47bc-8088-b74ef7f3c1d2",
   "metadata": {},
   "outputs": [
    {
     "name": "stdout",
     "output_type": "stream",
     "text": [
      "{'banana', 'apple', 'cherry'}\n",
      "{'banana': 2, 'apple': 3, 'cherry': 1}\n"
     ]
    }
   ],
   "source": [
    "# Frequency Counter using dict Comprehension\n",
    "\n",
    "fruits = [\"apple\", \"banana\", \"apple\", \"cherry\", \"banana\", \"apple\"]\n",
    "\n",
    "print(set(fruits))\n",
    "\n",
    "# Using dictionary comprehension\n",
    "freq = {fruit : fruits.count(fruit)  for fruit in set(fruits)}\n",
    "print(freq)"
   ]
  },
  {
   "cell_type": "code",
   "execution_count": 7,
   "id": "f9895985-f3ed-4875-8d23-da5116bdb4be",
   "metadata": {},
   "outputs": [
    {
     "name": "stdout",
     "output_type": "stream",
     "text": [
      "[1, 2, 3, 4, 5, 6]\n"
     ]
    }
   ],
   "source": [
    "# Flatten Nested Lists Using List Comprehensions\n",
    "\n",
    "#  Turn a nested list (like a list of lists) into a single flat list\n",
    "\n",
    "nested = [[1, 2], [3, 4], [5, 6]]\n",
    "flat  = [num for sublist in nested for num in sublist]\n",
    "print(flat)"
   ]
  },
  {
   "cell_type": "code",
   "execution_count": 9,
   "id": "9fcd4ff5-60f1-4749-adee-a43038edba15",
   "metadata": {},
   "outputs": [
    {
     "name": "stdout",
     "output_type": "stream",
     "text": [
      "['machine', 'learning', 'enables', 'machines', 'to', 'learn', 'from', 'data', 'and', 'improve', 'learning']\n",
      "{'and', 'improve', 'from', 'to', 'data', 'learning', 'learn', 'enables', 'machine', 'machines'}\n"
     ]
    }
   ],
   "source": [
    "#  Unique Words from Text using set\n",
    "\n",
    "# The .split() method in Python is used to split a string into a list based on a separator (delimiter).\n",
    "\n",
    "text = \"Machine learning enables machines to learn from data and improve learning.\"\n",
    "words = text.lower().replace(\".\",\"\").split()\n",
    "print(words)\n",
    "\n",
    "wordsSet = {word for word in words}\n",
    "print(wordsSet)"
   ]
  },
  {
   "cell_type": "code",
   "execution_count": null,
   "id": "33727772-fde1-437b-be4a-93b63fb70a2e",
   "metadata": {},
   "outputs": [],
   "source": []
  }
 ],
 "metadata": {
  "kernelspec": {
   "display_name": "Python 3 (ipykernel)",
   "language": "python",
   "name": "python3"
  },
  "language_info": {
   "codemirror_mode": {
    "name": "ipython",
    "version": 3
   },
   "file_extension": ".py",
   "mimetype": "text/x-python",
   "name": "python",
   "nbconvert_exporter": "python",
   "pygments_lexer": "ipython3",
   "version": "3.13.5"
  }
 },
 "nbformat": 4,
 "nbformat_minor": 5
}
