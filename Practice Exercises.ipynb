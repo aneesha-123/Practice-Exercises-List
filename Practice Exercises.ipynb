{
 "cells": [
  {
   "cell_type": "code",
   "execution_count": 2,
   "id": "0c0b0d54-343e-4865-a4f1-2ec2b8ee3e27",
   "metadata": {},
   "outputs": [
    {
     "name": "stdout",
     "output_type": "stream",
     "text": [
      "[0, 2, 4, 6, 8]\n"
     ]
    }
   ],
   "source": [
    "#Create a list of 10 numbers and print all even numbers.\n",
    "\n",
    "even = [x for x in range(10) if x% 2 ==0]\n",
    "print (even)"
   ]
  },
  {
   "cell_type": "code",
   "execution_count": 8,
   "id": "6ea0e210-983e-468d-bb5e-eea995811ae4",
   "metadata": {},
   "outputs": [
    {
     "name": "stdout",
     "output_type": "stream",
     "text": [
      "Fruit counts: {'apple': 3, 'banana': 2, 'orange': 1, 'grape': 1}\n"
     ]
    }
   ],
   "source": [
    "# Write a program to count occurrences of each fruit in a list.\n",
    "fruits = ['apple', 'banana', 'apple', 'orange', 'banana', 'apple', 'grape']\n",
    "\n",
    "fruitsCount = {fruit: fruits.count(fruit) for fruit in fruits}\n",
    "print(\"Fruit counts:\",fruitsCount)\n",
    "\n"
   ]
  },
  {
   "cell_type": "code",
   "execution_count": 9,
   "id": "b88295f8-4a08-4fd6-8fbb-349c0dff7f97",
   "metadata": {},
   "outputs": [
    {
     "name": "stdout",
     "output_type": "stream",
     "text": [
      "Sorted by length:  ['fig', 'kiwi', 'apple', 'grape', 'banana', 'orange']\n"
     ]
    }
   ],
   "source": [
    "# Sort a list of strings by length.\n",
    "fruits = ['apple', 'banana', 'kiwi', 'grape', 'orange', 'fig']\n",
    "sorted_fruits = sorted(fruits,key=len)\n",
    "print(\"Sorted by length: \",sorted_fruits)"
   ]
  },
  {
   "cell_type": "code",
   "execution_count": 10,
   "id": "c8529875-e375-4636-9ac9-416f4cfe7726",
   "metadata": {},
   "outputs": [
    {
     "name": "stdout",
     "output_type": "stream",
     "text": [
      "['date', 'cherry', 'banana', 'apple']\n"
     ]
    }
   ],
   "source": [
    "#  Reverse a list without using reverse()\n",
    "#  [::-1] means — start from the end and step backward by 1.\n",
    "fruits = ['apple', 'banana', 'cherry', 'date']\n",
    "reversed_fruits = fruits[::-1]\n",
    "print(reversed_fruits)"
   ]
  },
  {
   "cell_type": "code",
   "execution_count": null,
   "id": "521c941f-e752-4997-89a6-55ca9899ce7f",
   "metadata": {},
   "outputs": [],
   "source": [
    "#Flatten a nested list [[1,2],[3,4],[5,6]] into [1,2,3,4,5,6].\n",
    "nested_list = [[1, 2], [3, 4], [5, 6]]\n",
    "\n",
    "flat_list = []\n",
    "for sublist in nested_list:\n",
    "    for num in sublist:\n",
    "        flat_list.append(num)\n",
    "\n",
    "print(flat_list)"
   ]
  },
  {
   "cell_type": "code",
   "execution_count": 6,
   "id": "64313321-1365-47bc-8088-b74ef7f3c1d2",
   "metadata": {},
   "outputs": [
    {
     "name": "stdout",
     "output_type": "stream",
     "text": [
      "{'banana', 'apple', 'cherry'}\n",
      "{'banana': 2, 'apple': 3, 'cherry': 1}\n"
     ]
    }
   ],
   "source": [
    "# Frequency Counter using dict Comprehension\n",
    "\n",
    "fruits = [\"apple\", \"banana\", \"apple\", \"cherry\", \"banana\", \"apple\"]\n",
    "\n",
    "print(set(fruits))\n",
    "\n",
    "# Using dictionary comprehension\n",
    "freq = {fruit : fruits.count(fruit)  for fruit in set(fruits)}\n",
    "print(freq)"
   ]
  },
  {
   "cell_type": "code",
   "execution_count": 7,
   "id": "f9895985-f3ed-4875-8d23-da5116bdb4be",
   "metadata": {},
   "outputs": [
    {
     "name": "stdout",
     "output_type": "stream",
     "text": [
      "[1, 2, 3, 4, 5, 6]\n"
     ]
    }
   ],
   "source": [
    "# Flatten Nested Lists Using List Comprehensions\n",
    "\n",
    "#  Turn a nested list (like a list of lists) into a single flat list\n",
    "\n",
    "nested = [[1, 2], [3, 4], [5, 6]]\n",
    "flat  = [num for sublist in nested for num in sublist]\n",
    "print(flat)"
   ]
  },
  {
   "cell_type": "code",
   "execution_count": 9,
   "id": "9fcd4ff5-60f1-4749-adee-a43038edba15",
   "metadata": {},
   "outputs": [
    {
     "name": "stdout",
     "output_type": "stream",
     "text": [
      "['machine', 'learning', 'enables', 'machines', 'to', 'learn', 'from', 'data', 'and', 'improve', 'learning']\n",
      "{'and', 'improve', 'from', 'to', 'data', 'learning', 'learn', 'enables', 'machine', 'machines'}\n"
     ]
    }
   ],
   "source": [
    "#  Unique Words from Text using set\n",
    "\n",
    "# The .split() method in Python is used to split a string into a list based on a separator (delimiter).\n",
    "\n",
    "text = \"Machine learning enables machines to learn from data and improve learning.\"\n",
    "words = text.lower().replace(\".\",\"\").split()\n",
    "print(words)\n",
    "\n",
    "wordsSet = {word for word in words}\n",
    "print(wordsSet)"
   ]
  },
  {
   "cell_type": "code",
   "execution_count": 4,
   "id": "33727772-fde1-437b-be4a-93b63fb70a2e",
   "metadata": {},
   "outputs": [
    {
     "name": "stdout",
     "output_type": "stream",
     "text": [
      "5\n",
      "4\n",
      "3\n",
      "2\n"
     ]
    },
    {
     "data": {
      "text/plain": [
       "120"
      ]
     },
     "execution_count": 4,
     "metadata": {},
     "output_type": "execute_result"
    }
   ],
   "source": [
    "#  Factorial using Recursion\n",
    "\n",
    "#  Factorial of n = n × (n-1) × (n-2) × ... × 1\n",
    "\n",
    "def factorial(n):\n",
    "    if n == 1 :\n",
    "        return 1\n",
    "    else:\n",
    "        print(n)\n",
    "        return n*factorial(n-1)\n",
    "\n"
   ]
  },
  {
   "cell_type": "code",
   "execution_count": 5,
   "id": "ed345e72-55e9-4e00-89da-23a091dc7d7a",
   "metadata": {},
   "outputs": [
    {
     "name": "stdout",
     "output_type": "stream",
     "text": [
      "5\n",
      "4\n",
      "3\n",
      "2\n",
      "1\n",
      "done\n"
     ]
    }
   ],
   "source": [
    "# Counting Down\n",
    "\n",
    "def CountingDown(n):\n",
    "    if n == 0:\n",
    "        print(\"done\")\n",
    "    else:\n",
    "        print(n)\n",
    "        CountingDown(n-1)\n",
    "        \n",
    "CountingDown(5)\n"
   ]
  },
  {
   "cell_type": "code",
   "execution_count": 6,
   "id": "779cd297-3637-4737-b1c5-ec8ef5f912b6",
   "metadata": {},
   "outputs": [
    {
     "name": "stdout",
     "output_type": "stream",
     "text": [
      "11\n"
     ]
    }
   ],
   "source": [
    "# Sum of a List using Recursion\n",
    "\n",
    "def list_sum(numbers):\n",
    "    if len(numbers) == 0:\n",
    "        return 0\n",
    "    else:\n",
    "        return numbers[0] + list_sum(numbers[1::])\n",
    "\n",
    "print(list_sum([1,2,3,5]))\n",
    "    "
   ]
  },
  {
   "cell_type": "code",
   "execution_count": 7,
   "id": "e5c48291-31ab-4a50-9a33-e21a70f274c7",
   "metadata": {},
   "outputs": [
    {
     "name": "stdout",
     "output_type": "stream",
     "text": [
      "55\n"
     ]
    }
   ],
   "source": [
    "#  fibonaci \n",
    "def fibonacci(n):\n",
    "    if n <= 1:\n",
    "        return n\n",
    "    else :\n",
    "        return fibonacci(n-1) + fibonacci(n-2)\n",
    "\n",
    "print(fibonacci(10))"
   ]
  },
  {
   "cell_type": "code",
   "execution_count": 8,
   "id": "9b7e5b47-3a8a-4935-9569-93646b1778f5",
   "metadata": {},
   "outputs": [
    {
     "name": "stdout",
     "output_type": "stream",
     "text": [
      "Finished work!\n",
      "Function 'slow_function' took 2.0005 seconds to execute.\n"
     ]
    }
   ],
   "source": [
    "# Decorator for Logging Execution Time\n",
    "import time\n",
    "\n",
    "def log_execution_time(func):\n",
    "    def wrapper(*args, **kwargs):\n",
    "        start_time = time.time()               # ⏳ start time\n",
    "        result = func(*args, **kwargs)         # 🧠 call the real function\n",
    "        end_time = time.time()                 # ⏰ end time\n",
    "        print(f\"Function '{func.__name__}' took {end_time - start_time:.4f} seconds to execute.\")\n",
    "        return result\n",
    "    return wrapper\n",
    "\n",
    "@log_execution_time\n",
    "def slow_function():\n",
    "    time.sleep(2)   # pretend this takes time\n",
    "    print(\"Finished work!\")\n",
    "\n",
    "slow_function()"
   ]
  },
  {
   "cell_type": "code",
   "execution_count": null,
   "id": "c0197b60-b15d-4d50-8ca0-507b66338df0",
   "metadata": {},
   "outputs": [],
   "source": []
  }
 ],
 "metadata": {
  "kernelspec": {
   "display_name": "Python 3 (ipykernel)",
   "language": "python",
   "name": "python3"
  },
  "language_info": {
   "codemirror_mode": {
    "name": "ipython",
    "version": 3
   },
   "file_extension": ".py",
   "mimetype": "text/x-python",
   "name": "python",
   "nbconvert_exporter": "python",
   "pygments_lexer": "ipython3",
   "version": "3.13.5"
  }
 },
 "nbformat": 4,
 "nbformat_minor": 5
}
